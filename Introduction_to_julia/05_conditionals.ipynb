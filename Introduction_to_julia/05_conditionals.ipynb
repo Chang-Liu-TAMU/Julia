{
 "cells": [
  {
   "cell_type": "code",
   "execution_count": 1,
   "id": "a7f9d7e1",
   "metadata": {},
   "outputs": [],
   "source": [
    "#=\n",
    "conditinals\n",
    "\n",
    "if * condition 1*\n",
    "    *option 1*\n",
    "elseif *conditon 2*\n",
    "    *option 2*\n",
    "else\n",
    "    *option 3*\n",
    "end\n",
    "=#"
   ]
  },
  {
   "cell_type": "code",
   "execution_count": 2,
   "id": "939d6377",
   "metadata": {},
   "outputs": [
    {
     "name": "stdout",
     "output_type": "stream",
     "text": [
      "x > y\n"
     ]
    }
   ],
   "source": [
    "x = 10\n",
    "y = 2\n",
    "if x > y\n",
    "    println(\"x > y\")\n",
    "elseif x == y\n",
    "    println(\"x = y\")\n",
    "else\n",
    "    print(\"x < y\")\n",
    "end"
   ]
  },
  {
   "cell_type": "code",
   "execution_count": 4,
   "id": "1f5fe0c1",
   "metadata": {},
   "outputs": [
    {
     "data": {
      "text/plain": [
       "10"
      ]
     },
     "execution_count": 4,
     "metadata": {},
     "output_type": "execute_result"
    }
   ],
   "source": [
    "#say we wanna return larger one\n",
    "if x > y\n",
    "    x\n",
    "else\n",
    "    y\n",
    "end\n",
    "    "
   ]
  },
  {
   "cell_type": "code",
   "execution_count": 8,
   "id": "3bc84b34",
   "metadata": {},
   "outputs": [
    {
     "data": {
      "text/plain": [
       "10"
      ]
     },
     "execution_count": 8,
     "metadata": {},
     "output_type": "execute_result"
    }
   ],
   "source": [
    "#a ? b : c\n",
    "(x > y) ? x : y"
   ]
  },
  {
   "cell_type": "code",
   "execution_count": 10,
   "id": "9d1e3115",
   "metadata": {},
   "outputs": [
    {
     "name": "stdout",
     "output_type": "stream",
     "text": [
      "x > y\n"
     ]
    }
   ],
   "source": [
    "# a fun trick is short-circuit evaluation with \n",
    "#the syntax a && b\n",
    "\n",
    "(x > y) && println(\"x > y\")\n"
   ]
  },
  {
   "cell_type": "code",
   "execution_count": null,
   "id": "c68016a8",
   "metadata": {},
   "outputs": [],
   "source": []
  }
 ],
 "metadata": {
  "kernelspec": {
   "display_name": "Julia 1.7.0",
   "language": "julia",
   "name": "julia-1.7"
  },
  "language_info": {
   "file_extension": ".jl",
   "mimetype": "application/julia",
   "name": "julia",
   "version": "1.7.0"
  }
 },
 "nbformat": 4,
 "nbformat_minor": 5
}
