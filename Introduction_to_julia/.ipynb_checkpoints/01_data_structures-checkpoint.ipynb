{
 "cells": [
  {
   "cell_type": "code",
   "execution_count": 1,
   "id": "8d6366a0",
   "metadata": {},
   "outputs": [
    {
     "data": {
      "text/plain": [
       "Dict{String, String} with 2 entries:\n",
       "  \"game1\" => \"Monster Hunter\"\n",
       "  \"game2\" => \"Street fighter\""
      ]
     },
     "execution_count": 1,
     "metadata": {},
     "output_type": "execute_result"
    }
   ],
   "source": [
    "games = Dict(\"game1\" => \"Monster Hunter\", \"game2\" => \"Street fighter\")"
   ]
  },
  {
   "cell_type": "code",
   "execution_count": 2,
   "id": "81dc5cd6",
   "metadata": {},
   "outputs": [
    {
     "data": {
      "text/plain": [
       "\"Devil May Cry\""
      ]
     },
     "execution_count": 2,
     "metadata": {},
     "output_type": "execute_result"
    }
   ],
   "source": [
    "games[\"game3\"] = \"Devil May Cry\""
   ]
  },
  {
   "cell_type": "code",
   "execution_count": 3,
   "id": "23209963",
   "metadata": {},
   "outputs": [
    {
     "data": {
      "text/plain": [
       "Dict{String, String} with 3 entries:\n",
       "  \"game1\" => \"Monster Hunter\"\n",
       "  \"game3\" => \"Devil May Cry\"\n",
       "  \"game2\" => \"Street fighter\""
      ]
     },
     "execution_count": 3,
     "metadata": {},
     "output_type": "execute_result"
    }
   ],
   "source": [
    "games"
   ]
  },
  {
   "cell_type": "code",
   "execution_count": 4,
   "id": "b762803e",
   "metadata": {},
   "outputs": [
    {
     "data": {
      "text/plain": [
       "\"Monster Hunter\""
      ]
     },
     "execution_count": 4,
     "metadata": {},
     "output_type": "execute_result"
    }
   ],
   "source": [
    "game1 = games[\"game1\"]"
   ]
  },
  {
   "cell_type": "code",
   "execution_count": 6,
   "id": "903d0a6c",
   "metadata": {},
   "outputs": [
    {
     "data": {
      "text/plain": [
       "\"Street fighter\""
      ]
     },
     "execution_count": 6,
     "metadata": {},
     "output_type": "execute_result"
    }
   ],
   "source": [
    "#pop! modify with !\n",
    "game2 = pop!(games, \"game2\")"
   ]
  },
  {
   "cell_type": "code",
   "execution_count": 7,
   "id": "dbbcb16e",
   "metadata": {},
   "outputs": [
    {
     "data": {
      "text/plain": [
       "Dict{String, String} with 2 entries:\n",
       "  \"game1\" => \"Monster Hunter\"\n",
       "  \"game3\" => \"Devil May Cry\""
      ]
     },
     "execution_count": 7,
     "metadata": {},
     "output_type": "execute_result"
    }
   ],
   "source": [
    "games"
   ]
  },
  {
   "cell_type": "code",
   "execution_count": 8,
   "id": "5c19c880",
   "metadata": {},
   "outputs": [
    {
     "data": {
      "text/plain": [
       "(\"cat\", \"dog\", \"bird\")"
      ]
     },
     "execution_count": 8,
     "metadata": {},
     "output_type": "execute_result"
    }
   ],
   "source": [
    "#tuples unmodifiable\n",
    "animals = (\"cat\", \"dog\", \"bird\")"
   ]
  },
  {
   "cell_type": "code",
   "execution_count": 9,
   "id": "1df914c8",
   "metadata": {},
   "outputs": [
    {
     "data": {
      "text/plain": [
       "\"cat\""
      ]
     },
     "execution_count": 9,
     "metadata": {},
     "output_type": "execute_result"
    }
   ],
   "source": [
    "x = animals[1]"
   ]
  },
  {
   "cell_type": "code",
   "execution_count": 10,
   "id": "b2ac2ced",
   "metadata": {},
   "outputs": [],
   "source": [
    "# in julia, it is 1-indexed "
   ]
  },
  {
   "cell_type": "code",
   "execution_count": 11,
   "id": "b19887a1",
   "metadata": {},
   "outputs": [
    {
     "data": {
      "text/plain": [
       "5-element Vector{Int64}:\n",
       " 1\n",
       " 1\n",
       " 2\n",
       " 3\n",
       " 5"
      ]
     },
     "execution_count": 11,
     "metadata": {},
     "output_type": "execute_result"
    }
   ],
   "source": [
    "fibonacci = [1, 1, 2, 3, 5]"
   ]
  },
  {
   "cell_type": "code",
   "execution_count": 12,
   "id": "9aeec197",
   "metadata": {},
   "outputs": [
    {
     "data": {
      "text/plain": [
       "4-element Vector{Any}:\n",
       " 1\n",
       "  \"hello\"\n",
       " 1.9\n",
       "  [1, 1, 2, 3, 5]"
      ]
     },
     "execution_count": 12,
     "metadata": {},
     "output_type": "execute_result"
    }
   ],
   "source": [
    "mix = [1, \"hello\", 1.9, fibonacci]"
   ]
  },
  {
   "cell_type": "code",
   "execution_count": 14,
   "id": "66d8304e",
   "metadata": {},
   "outputs": [
    {
     "data": {
      "text/plain": [
       "100"
      ]
     },
     "execution_count": 14,
     "metadata": {},
     "output_type": "execute_result"
    }
   ],
   "source": [
    "mix[4][1] = 100\n"
   ]
  },
  {
   "cell_type": "code",
   "execution_count": 15,
   "id": "677aeac8",
   "metadata": {},
   "outputs": [
    {
     "data": {
      "text/plain": [
       "4-element Vector{Any}:\n",
       " 1\n",
       "  \"hello\"\n",
       " 1.9\n",
       "  [100, 1, 2, 3, 5]"
      ]
     },
     "execution_count": 15,
     "metadata": {},
     "output_type": "execute_result"
    }
   ],
   "source": [
    "mix"
   ]
  },
  {
   "cell_type": "code",
   "execution_count": 17,
   "id": "72803b1d",
   "metadata": {},
   "outputs": [
    {
     "data": {
      "text/plain": [
       "5-element Vector{Int64}:\n",
       " 100\n",
       "   1\n",
       "   2\n",
       "   3\n",
       "   5"
      ]
     },
     "execution_count": 17,
     "metadata": {},
     "output_type": "execute_result"
    }
   ],
   "source": [
    "fibonacci"
   ]
  },
  {
   "cell_type": "code",
   "execution_count": 18,
   "id": "7a83feb5",
   "metadata": {},
   "outputs": [
    {
     "data": {
      "text/plain": [
       "5-element Vector{Int64}:\n",
       " 100\n",
       "   1\n",
       "   2\n",
       "   3\n",
       "   5"
      ]
     },
     "execution_count": 18,
     "metadata": {},
     "output_type": "execute_result"
    }
   ],
   "source": [
    "f = fibonacci"
   ]
  },
  {
   "cell_type": "code",
   "execution_count": 19,
   "id": "2f1e6cdc",
   "metadata": {},
   "outputs": [
    {
     "data": {
      "text/plain": [
       "6-element Vector{Int64}:\n",
       " 100\n",
       "   1\n",
       "   2\n",
       "   3\n",
       "   5\n",
       "  99"
      ]
     },
     "execution_count": 19,
     "metadata": {},
     "output_type": "execute_result"
    }
   ],
   "source": [
    "push!(f, 99)"
   ]
  },
  {
   "cell_type": "code",
   "execution_count": 20,
   "id": "8584289d",
   "metadata": {},
   "outputs": [
    {
     "data": {
      "text/plain": [
       "99"
      ]
     },
     "execution_count": 20,
     "metadata": {},
     "output_type": "execute_result"
    }
   ],
   "source": [
    "pop!(f)"
   ]
  },
  {
   "cell_type": "code",
   "execution_count": 21,
   "id": "45b2266e",
   "metadata": {},
   "outputs": [
    {
     "data": {
      "text/plain": [
       "5-element Vector{Int64}:\n",
       " 100\n",
       "   1\n",
       "   2\n",
       "   3\n",
       "   5"
      ]
     },
     "execution_count": 21,
     "metadata": {},
     "output_type": "execute_result"
    }
   ],
   "source": [
    "f"
   ]
  },
  {
   "cell_type": "code",
   "execution_count": 22,
   "id": "b2cd2d77",
   "metadata": {},
   "outputs": [
    {
     "data": {
      "text/plain": [
       "\"a\""
      ]
     },
     "execution_count": 22,
     "metadata": {},
     "output_type": "execute_result"
    }
   ],
   "source": [
    "x = \"a\""
   ]
  },
  {
   "cell_type": "code",
   "execution_count": 23,
   "id": "c3f4e0e9",
   "metadata": {},
   "outputs": [
    {
     "data": {
      "text/plain": [
       "String"
      ]
     },
     "execution_count": 23,
     "metadata": {},
     "output_type": "execute_result"
    }
   ],
   "source": [
    "typeof(x)"
   ]
  },
  {
   "cell_type": "code",
   "execution_count": 24,
   "id": "552280d4",
   "metadata": {},
   "outputs": [
    {
     "data": {
      "text/plain": [
       "3-element Vector{Vector{String}}:\n",
       " [\"bananas\"]\n",
       " [\"apple\", \"pineapple\", \"grape\"]\n",
       " [\"dragon fruit\"]"
      ]
     },
     "execution_count": 24,
     "metadata": {},
     "output_type": "execute_result"
    }
   ],
   "source": [
    "fruits = [[\"bananas\"], [\"apple\", \"pineapple\", \"grape\"],\n",
    "    [\"dragon fruit\"]]"
   ]
  },
  {
   "cell_type": "code",
   "execution_count": 25,
   "id": "9d96f92d",
   "metadata": {},
   "outputs": [
    {
     "data": {
      "text/plain": [
       "Vector{String} (alias for Array{String, 1})"
      ]
     },
     "execution_count": 25,
     "metadata": {},
     "output_type": "execute_result"
    }
   ],
   "source": [
    "typeof(fruits[1])"
   ]
  },
  {
   "cell_type": "code",
   "execution_count": 26,
   "id": "9a3505be",
   "metadata": {},
   "outputs": [
    {
     "data": {
      "text/plain": [
       "3-element Vector{Vector{Int64}}:\n",
       " [1, 2, 3]\n",
       " [4, 5]\n",
       " [6, 7, 8, 9]"
      ]
     },
     "execution_count": 26,
     "metadata": {},
     "output_type": "execute_result"
    }
   ],
   "source": [
    "numbers = [[1, 2, 3], [4, 5], [6, 7, 8, 9]]"
   ]
  },
  {
   "cell_type": "code",
   "execution_count": 27,
   "id": "67bfbaaf",
   "metadata": {},
   "outputs": [
    {
     "data": {
      "text/plain": [
       "4×5 Matrix{Float64}:\n",
       " 0.00490425  0.174839  0.356447  0.165334  0.630923\n",
       " 0.436521    0.622979  0.200001  0.59489   0.0970659\n",
       " 0.754662    0.976255  0.250518  0.780422  0.505668\n",
       " 0.217769    0.262492  0.354755  0.895939  0.973852"
      ]
     },
     "execution_count": 27,
     "metadata": {},
     "output_type": "execute_result"
    }
   ],
   "source": [
    "rand(4, 5)"
   ]
  },
  {
   "cell_type": "code",
   "execution_count": 28,
   "id": "c95f437c",
   "metadata": {},
   "outputs": [
    {
     "data": {
      "text/plain": [
       "4×3×2 Array{Float64, 3}:\n",
       "[:, :, 1] =\n",
       " 0.0234284  0.175131  0.297501\n",
       " 0.0668715  0.841139  0.857618\n",
       " 0.205449   0.634994  0.592394\n",
       " 0.2811     0.207705  0.334824\n",
       "\n",
       "[:, :, 2] =\n",
       " 0.124662  0.669939  0.918599\n",
       " 0.308721  0.225695  0.658322\n",
       " 0.556947  0.52191   0.738759\n",
       " 0.681875  0.397711  0.690352"
      ]
     },
     "execution_count": 28,
     "metadata": {},
     "output_type": "execute_result"
    }
   ],
   "source": [
    "rand(4, 3, 2)"
   ]
  },
  {
   "cell_type": "code",
   "execution_count": null,
   "id": "d566d5f6",
   "metadata": {},
   "outputs": [],
   "source": []
  }
 ],
 "metadata": {
  "kernelspec": {
   "display_name": "Julia 1.7.0",
   "language": "julia",
   "name": "julia-1.7"
  },
  "language_info": {
   "file_extension": ".jl",
   "mimetype": "application/julia",
   "name": "julia",
   "version": "1.7.0"
  }
 },
 "nbformat": 4,
 "nbformat_minor": 5
}
