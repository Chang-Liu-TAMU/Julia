{
 "cells": [
  {
   "cell_type": "code",
   "execution_count": 2,
   "id": "ee03e494",
   "metadata": {},
   "outputs": [
    {
     "name": "stdout",
     "output_type": "stream",
     "text": [
      "I am excited to learn Julia\n"
     ]
    }
   ],
   "source": [
    "println(\"I am excited to learn Julia\")"
   ]
  },
  {
   "cell_type": "code",
   "execution_count": 3,
   "id": "c29614b7",
   "metadata": {},
   "outputs": [
    {
     "data": {
      "text/plain": [
       "Int64"
      ]
     },
     "execution_count": 3,
     "metadata": {},
     "output_type": "execute_result"
    }
   ],
   "source": [
    "v = 42\n",
    "typeof(v)"
   ]
  },
  {
   "cell_type": "code",
   "execution_count": 4,
   "id": "eb648029",
   "metadata": {},
   "outputs": [
    {
     "data": {
      "text/plain": [
       "Float64"
      ]
     },
     "execution_count": 4,
     "metadata": {},
     "output_type": "execute_result"
    }
   ],
   "source": [
    "my_pi = 3.14\n",
    "typeof(my_pi)"
   ]
  },
  {
   "cell_type": "code",
   "execution_count": 5,
   "id": "78c83a34",
   "metadata": {},
   "outputs": [
    {
     "data": {
      "text/plain": [
       "\"hello\""
      ]
     },
     "execution_count": 5,
     "metadata": {},
     "output_type": "execute_result"
    }
   ],
   "source": [
    "# \\:smi + <tab> -> <enter> -> <tab> + <enter>\n",
    "😄 = \"hello\""
   ]
  },
  {
   "cell_type": "code",
   "execution_count": 6,
   "id": "6d8b3493",
   "metadata": {},
   "outputs": [],
   "source": [
    "#comments\n",
    "\n",
    "#=\n",
    "a lot of comments\n",
    "=#"
   ]
  },
  {
   "cell_type": "code",
   "execution_count": 7,
   "id": "231f89df",
   "metadata": {},
   "outputs": [
    {
     "data": {
      "text/plain": [
       "10"
      ]
     },
     "execution_count": 7,
     "metadata": {},
     "output_type": "execute_result"
    }
   ],
   "source": [
    "sum = 3 + 7"
   ]
  },
  {
   "cell_type": "code",
   "execution_count": 8,
   "id": "e6816d84",
   "metadata": {},
   "outputs": [
    {
     "data": {
      "text/plain": [
       "7"
      ]
     },
     "execution_count": 8,
     "metadata": {},
     "output_type": "execute_result"
    }
   ],
   "source": [
    "diff = 10 -3"
   ]
  },
  {
   "cell_type": "code",
   "execution_count": 9,
   "id": "72fb02a4",
   "metadata": {},
   "outputs": [
    {
     "data": {
      "text/plain": [
       "6"
      ]
     },
     "execution_count": 9,
     "metadata": {},
     "output_type": "execute_result"
    }
   ],
   "source": [
    "prod = 2 * 3"
   ]
  },
  {
   "cell_type": "code",
   "execution_count": 10,
   "id": "674e0205",
   "metadata": {},
   "outputs": [
    {
     "data": {
      "text/plain": [
       "50.0"
      ]
     },
     "execution_count": 10,
     "metadata": {},
     "output_type": "execute_result"
    }
   ],
   "source": [
    "quotient = 100 / 2"
   ]
  },
  {
   "cell_type": "code",
   "execution_count": 11,
   "id": "22a93780",
   "metadata": {},
   "outputs": [
    {
     "data": {
      "text/plain": [
       "4"
      ]
     },
     "execution_count": 11,
     "metadata": {},
     "output_type": "execute_result"
    }
   ],
   "source": [
    "power = 2 ^ 2"
   ]
  },
  {
   "cell_type": "code",
   "execution_count": 12,
   "id": "5bb93f0c",
   "metadata": {},
   "outputs": [
    {
     "data": {
      "text/plain": [
       "1"
      ]
     },
     "execution_count": 12,
     "metadata": {},
     "output_type": "execute_result"
    }
   ],
   "source": [
    "modulus = 11 % 10"
   ]
  },
  {
   "cell_type": "code",
   "execution_count": 13,
   "id": "8b2f1af8",
   "metadata": {},
   "outputs": [
    {
     "data": {
      "text/plain": [
       "11//10"
      ]
     },
     "execution_count": 13,
     "metadata": {},
     "output_type": "execute_result"
    }
   ],
   "source": [
    "m = 11 // 10\n"
   ]
  },
  {
   "cell_type": "code",
   "execution_count": 14,
   "id": "57042335",
   "metadata": {},
   "outputs": [
    {
     "data": {
      "text/plain": [
       "365"
      ]
     },
     "execution_count": 14,
     "metadata": {},
     "output_type": "execute_result"
    }
   ],
   "source": [
    "days = 365"
   ]
  },
  {
   "cell_type": "code",
   "execution_count": 15,
   "id": "aa124753",
   "metadata": {},
   "outputs": [
    {
     "data": {
      "text/plain": [
       "Int64"
      ]
     },
     "execution_count": 15,
     "metadata": {},
     "output_type": "execute_result"
    }
   ],
   "source": [
    "typeof(days)"
   ]
  },
  {
   "cell_type": "code",
   "execution_count": 16,
   "id": "b0da4bad",
   "metadata": {},
   "outputs": [
    {
     "data": {
      "text/plain": [
       "365.0"
      ]
     },
     "execution_count": 16,
     "metadata": {},
     "output_type": "execute_result"
    }
   ],
   "source": [
    "days_float = convert(Float64, days)\n"
   ]
  },
  {
   "cell_type": "code",
   "execution_count": 17,
   "id": "bc307a43",
   "metadata": {},
   "outputs": [],
   "source": [
    "@assert days == 365"
   ]
  },
  {
   "cell_type": "code",
   "execution_count": 18,
   "id": "9efad323",
   "metadata": {},
   "outputs": [],
   "source": [
    "@assert days == 365.0"
   ]
  },
  {
   "cell_type": "code",
   "execution_count": 19,
   "id": "0ba3dfed",
   "metadata": {},
   "outputs": [
    {
     "ename": "LoadError",
     "evalue": "AssertionError: days == 67",
     "output_type": "error",
     "traceback": [
      "AssertionError: days == 67",
      "",
      "Stacktrace:",
      " [1] top-level scope",
      "   @ In[19]:1",
      " [2] eval",
      "   @ .\\boot.jl:373 [inlined]",
      " [3] include_string(mapexpr::typeof(REPL.softscope), mod::Module, code::String, filename::String)",
      "   @ Base .\\loading.jl:1196"
     ]
    }
   ],
   "source": [
    "@assert days == 67"
   ]
  },
  {
   "cell_type": "code",
   "execution_count": 20,
   "id": "089362e4",
   "metadata": {},
   "outputs": [],
   "source": [
    "@assert days_float == 365.0"
   ]
  },
  {
   "cell_type": "code",
   "execution_count": null,
   "id": "365acb72",
   "metadata": {},
   "outputs": [],
   "source": []
  }
 ],
 "metadata": {
  "kernelspec": {
   "display_name": "Julia 1.7.0",
   "language": "julia",
   "name": "julia-1.7"
  },
  "language_info": {
   "file_extension": ".jl",
   "mimetype": "application/julia",
   "name": "julia",
   "version": "1.7.0"
  }
 },
 "nbformat": 4,
 "nbformat_minor": 5
}
